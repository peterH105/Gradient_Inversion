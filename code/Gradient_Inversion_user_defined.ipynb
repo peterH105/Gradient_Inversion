{
 "cells": [
  {
   "cell_type": "markdown",
   "metadata": {},
   "source": [
    "\n",
    "\n",
    "Inversion of the Moho depth using gravity gradient data\n",
    "----------------------------------------\n",
    "\n",
    "This Jupyter Notebook allows the inversion of gravity gradient data to estimate Moho depth and density contrast at the Moho depth. The script is designed to define a laterally variable density contrast. The extension of different density layers is based on seismological regionalization, which is a clustering product of the seismic tomographic model SL2013sv (Schaeffer & Lebedev, 2015). The regionalization defines different tectonic units in terms of their age. \n",
    "\n",
    "The script allows interactive calculation of the Bouguer anomaly, which is then used to invert for the Moho depth. This formulation allows to invert for the Moho depth at a study area as defined by the user. The coordinates of the study have to be inside a 1° window. At polar regions, the inversion might lead to inappropriate results, as the calculations are based on an equiangular grid of 1°.\n",
    "\n",
    "The most important computation steps of the following script are:\n",
    "1. Load the initial data files\n",
    "2. Calculate Bouguer anomaly\n",
    "3. Calculate reference Jacobian Matrix of inversion\n",
    "4. Loop over different density contrasts and obtain final model\n",
    "5. Plot the results\n",
    "\n",
    "Step 2 and Step 3 calculates the gravitational effect of a model, converted from tesseroids to point masses, based on a code written by Wolfgang Szwillus.\n",
    "\n",
    "For official use, please cite the paper: Haas, P., Ebbing J., Szwillus W. - Sensitivity analysis of gravity gradient inversion of the Moho depth – A case example for the Amazonian Craton, Geophysical Journal International, 2020, doi: 10.1093/gji/ggaa122\n"
   ]
  },
  {
   "cell_type": "markdown",
   "metadata": {},
   "source": [
    "#### Load the Python packages that are required for the inversion"
   ]
  },
  {
   "cell_type": "code",
   "execution_count": 1,
   "metadata": {},
   "outputs": [],
   "source": [
    "%matplotlib inline\n",
    "\n",
    "import numpy as np\n",
    "from grad_inv_functions import *\n",
    "from topo_corr import *\n",
    "import matplotlib.pyplot as plt\n",
    "import matplotlib.font_manager as font_manager\n",
    "from matplotlib import cm,path\n",
    "from matplotlib.ticker import (MultipleLocator, FormatStrFormatter,\n",
    "                               AutoMinorLocator)\n",
    "import time\n",
    "import progressbar\n",
    "import os\n",
    "\n",
    "# Here you have to include the path where the \"proj4\" is located (essential to use the Basemap package)\n",
    "os.environ['PROJ_LIB'] = r'C:\\Users\\Peter\\Anaconda3\\pkgs\\proj4-5.2.0-h6538335_1006\\Library\\share'\n",
    "from mpl_toolkits.basemap import Basemap"
   ]
  },
  {
   "cell_type": "markdown",
   "metadata": {},
   "source": [
    "#### Set parameters for the inversion"
   ]
  },
  {
   "cell_type": "code",
   "execution_count": 2,
   "metadata": {},
   "outputs": [],
   "source": [
    "lon_min=-15 #Define coordinates of study area. \n",
    "lon_max=5\n",
    "lat_min=-30\n",
    "lat_max=-10\n",
    "\n",
    "dx=1.0 # define grid cell size (should be 1.0 degree)\n",
    "dy=1.0\n",
    "\n",
    "farfield=\"no\" # keep those values\n",
    "sediments=\"no\"\n",
    "\n",
    "dens_min,dens_max,dens_inc=250.0,500.0,50\n",
    "reference_moho=30000.0 # select value for reference Moho depth \n",
    "\n",
    "k=np.arange(dens_min,dens_max+0.1,dens_inc) # select range and increment of density contrast\n",
    "beta=np.arange(1e-4,1.1e-4,1e-4) # select range and increment of smoothing parameter (should be constant)\n",
    "\n",
    "# Define number of point masses the tesseroids are converted to. Should not be higher than 2\n",
    "point_mass_number=2\n",
    "\n",
    "# Define some initial conditions\n",
    "dens_init=k[0]\n",
    "lon=np.arange(lon_min,lon_max+dx,dx)\n",
    "lat=np.arange(lat_min,lat_max+dy,dy)\n",
    "longr,latgr = np.meshgrid(lon,lat)\n",
    "\n",
    "#  Prepare vectors and grids for tesseroid model\n",
    "lon=longr.flatten() \n",
    "lat=latgr.flatten()\n",
    "height_km=225 \n",
    "heights=np.ones(len(lon))*height_km*1000\n",
    "area = (lat.min(), lat.max(), lon.min(), lon.max())\n",
    "shape=np.array((abs(lat_max-lat_min)/dy+1,abs(lon_max-lon_min)/dx+1))\n",
    "shape=shape.astype(int)"
   ]
  },
  {
   "cell_type": "markdown",
   "metadata": {},
   "source": [
    "#### Set parameters for topographic correction"
   ]
  },
  {
   "cell_type": "code",
   "execution_count": 3,
   "metadata": {},
   "outputs": [],
   "source": [
    "# Define area for Bouguer anomaly with overlap to avoid edge effects\n",
    "overlap=5.0\n",
    "area2 = (lat.min()-overlap, lat.max()+overlap, lon.min()-overlap, lon.max()+overlap)"
   ]
  },
  {
   "cell_type": "markdown",
   "metadata": {},
   "source": [
    "#### Load and prepare the data\n",
    "\n",
    "Seismic stations and tectonic units can be changed manually and are cut to the study area. The function \"Doperator\" calculates the smoothing matrix for the inversion using 2nd-order Tikhonov regularization.\n",
    "The tectonic units are used to create density combinations and have to be organized as clusters.  \n"
   ]
  },
  {
   "cell_type": "code",
   "execution_count": 4,
   "metadata": {},
   "outputs": [],
   "source": [
    "# Load and prepare seismic data\n",
    "seismic_stations=np.loadtxt(\"Seismic_Moho_USGS_global.txt\")\n",
    "seismic_stations=cut_data_to_study_area(seismic_stations,area)\n",
    "seismic_stations=seismic_stations[np.lexsort((seismic_stations[:,0],seismic_stations[:,1]))]\n",
    "\n",
    "#Prepare Regularization\n",
    "dmatrix_init=Doperator(shape,dx,dy)\n",
    "smooth_matrix=np.eye(lon.size)*beta\n",
    "dmatrix=dmatrix_init*beta\n",
    "\n",
    "# Load and prepare seismological regionalization clustering analysis\n",
    "tec_units=np.loadtxt('SL2013sv_Cluster_1d_interp.xyz')\n",
    "tec_units=cut_data_to_study_area(tec_units,area)\n",
    "tec_units=tec_units[np.lexsort((tec_units[:,0],tec_units[:,1]))]\n",
    "\n",
    "# Counts the number of tectonic units of the regionalization (maximum 6 domains)\n",
    "number_of_units=len(np.unique(tec_units[:,2]))\n",
    "value_of_units=np.unique(tec_units[:,2])\n",
    "\n",
    "# Creates the density matrix of all combinations of domains and density contrasts\n",
    "dens_mat=create_density_combinations(k,number_of_units)\n",
    "\n",
    "# This line can be activated to define only constant density contrasts. \n",
    "# Saves a lot of computational time, as only k combinations of density contrasts remain.\n",
    "#dens_mat=(np.ones((len(k),number_of_units))*k).T  \n",
    "\n",
    "# This line can be activated if only one SINGLE density combination is tested. \n",
    "# The values have to be defined manually and should only be selected if save_fields=\"yes\" is activated.\n",
    "#dens_mat=np.ones((1,6))*np.array([250,300,350,400,450,500])\n",
    "\n",
    "rms_matrix=np.zeros((k.size**number_of_units,number_of_units+5))"
   ]
  },
  {
   "cell_type": "markdown",
   "metadata": {},
   "source": [
    "#### Load Topography data for topographic correction"
   ]
  },
  {
   "cell_type": "code",
   "execution_count": 5,
   "metadata": {},
   "outputs": [],
   "source": [
    "# Load and prepare topographic data\n",
    "# Acknowledges Surface and Bedrock topography (based on ETOPO1, Amante & Eakins, 2009)\n",
    "bed=np.loadtxt(\"ETOPO1_1degree_bed_global.txt\")\n",
    "bed2=np.copy(bed)\n",
    "bed=cut_data_to_study_area(bed,area2)\n",
    "bed=bed[np.lexsort((bed[:,0],bed[:,1]))]\n",
    "ice=np.loadtxt(\"ETOPO1_1degree_ice_global.txt\")\n",
    "ice2=np.copy(ice)\n",
    "ice=cut_data_to_study_area(ice,area2)\n",
    "ice=ice[np.lexsort((ice[:,0],ice[:,1]))]\n",
    "\n",
    "\n",
    "# Load gzz component of GOCE data\n",
    "grav_data=np.loadtxt(\"gzz_1degree.txt\")\n",
    "grav_data2=np.copy(grav_data)\n",
    "grav_data=cut_data_to_study_area(grav_data,area2)\n",
    "grav_data=grav_data[np.lexsort((grav_data[:,0],grav_data[:,1]))]"
   ]
  },
  {
   "cell_type": "markdown",
   "metadata": {},
   "source": [
    "#### Perform topographic correction\n",
    "Creates a tesseroid model of topographic data, converts it to point masses and calculates the gravitational effect."
   ]
  },
  {
   "cell_type": "code",
   "execution_count": 6,
   "metadata": {},
   "outputs": [],
   "source": [
    "# Define coordinates and height for topographic correction with overlapping area\n",
    "lon_grav=grav_data[:,0]\n",
    "lat_grav=grav_data[:,1]\n",
    "heights_grav=np.ones(len(lon_grav))*height_km*1000"
   ]
  },
  {
   "cell_type": "code",
   "execution_count": 7,
   "metadata": {},
   "outputs": [
    {
     "name": "stdout",
     "output_type": "stream",
     "text": [
      "Calculate topographic effect\n",
      "Calculate Jacobian\n",
      "Calculation point mass No 1\n",
      "Calculation point mass No 2\n",
      "-4.736184119370926 -0.9464050197757755\n"
     ]
    }
   ],
   "source": [
    "topo_effect=topo_corr(lon_grav,lat_grav,bed,ice,heights_grav,point_mass_number)\n",
    "bouguer=grav_data[:,2]-topo_effect"
   ]
  },
  {
   "cell_type": "markdown",
   "metadata": {},
   "source": [
    "Cut Bouguer anomaly back to study area "
   ]
  },
  {
   "cell_type": "code",
   "execution_count": 8,
   "metadata": {},
   "outputs": [],
   "source": [
    "bouguer=np.vstack((bed[:,0],bed[:,1],bouguer)).T\n",
    "bouguer=cut_data_to_study_area(bouguer,area)\n",
    "bouguer=np.copy(bouguer[:,2])"
   ]
  },
  {
   "cell_type": "markdown",
   "metadata": {},
   "source": [
    "#### Have a look at the calculated Bouguer anomaly\n",
    "\n",
    "##### Define plotting function"
   ]
  },
  {
   "cell_type": "code",
   "execution_count": 9,
   "metadata": {},
   "outputs": [],
   "source": [
    "area_plot = (area[2],area[3],area[0],area[1])\n",
    "\n",
    "bm = Basemap(projection='cyl', \n",
    "             llcrnrlon=area_plot[0], urcrnrlon=area_plot[1], \n",
    "             llcrnrlat=area_plot[2], urcrnrlat=area_plot[3],\n",
    "             lon_0=0.5*(area_plot[0] + area_plot[1]), lat_0=0.5*(area_plot[3] + area_plot[2]), \n",
    "             resolution='l')"
   ]
  },
  {
   "cell_type": "code",
   "execution_count": 10,
   "metadata": {},
   "outputs": [],
   "source": [
    "# Define plot function. Takes longitude, latitude and data as vectors. Takes min and max value of colourbar and levels \n",
    "# as integers; takes label of colourbar as string  \n",
    "\n",
    "def plot_data(lon, lat, data, vmin, vmax, levels, cblabel, ranges=True):\n",
    "    x=np.arange(lon.min(),lon.max()+1,dx)\n",
    "    y=np.arange(lat.min(),lat.max()+1,dy)\n",
    "    X, Y = np.meshgrid(x, y)\n",
    "    data=np.reshape(data,(len(y),len(x)))\n",
    "    fig = plt.figure(figsize=(14, 7))\n",
    "    bm.pcolor(X, Y, data, cmap=cm.jet, vmin=vmin, vmax=vmax)\n",
    "    bm.drawmeridians(np.arange(lon.min(), lon.max(), 10), labels=[0, 0, 0, 1], linewidth=0.2)\n",
    "    bm.drawparallels(np.arange(lat.min(), lat.max(), 10), labels=[1, 0, 0, 0], linewidth=0.2)\n",
    "    bm.drawcoastlines(color='grey')\n",
    "    m = plt.cm.ScalarMappable(cmap=cm.jet)\n",
    "    m.set_array(data)\n",
    "    m.set_clim(vmin, vmax)\n",
    "    plt.colorbar(m, boundaries=np.linspace(vmin, vmax, levels)).set_label(cblabel)\n",
    "    plt.tight_layout(pad=0)"
   ]
  },
  {
   "cell_type": "code",
   "execution_count": 11,
   "metadata": {},
   "outputs": [
    {
     "data": {
      "image/png": "[encoded data removed]",
      "text/plain": [
       "<Figure size 1008x504 with 2 Axes>"
      ]
     },
     "metadata": {
      "needs_background": "light"
     },
     "output_type": "display_data"
    }
   ],
   "source": [
    "plot_data(lon,lat,bouguer,vmin=-4,vmax=4,levels=11, cblabel='E')"
   ]
  },
  {
   "cell_type": "markdown",
   "metadata": {},
   "source": [
    "#### Inversion with single reference Moho depth and constant density contrast\n",
    "\n",
    "The inversion of the gravity data is now performed once to obtain the reference Jacobian Matrix. Optionally, the inverted Moho depth as well as the residual field can be stored. "
   ]
  },
  {
   "cell_type": "code",
   "execution_count": 12,
   "metadata": {},
   "outputs": [
    {
     "name": "stdout",
     "output_type": "stream",
     "text": [
      "0 4.0 -1\n",
      "250.0 250.0\n",
      "1 5.0 0\n",
      "250.0 250.0\n",
      "2 6.0 1\n",
      "250.0 250.0\n",
      "Calculate Jacobian\n",
      "Calculation point mass No 1\n",
      "Calculation point mass No 2\n"
     ]
    }
   ],
   "source": [
    "# The \"save-fields\" function is intended to save the fields of a certain density contrast. \n",
    "# Should only be activated of a single density combination has been defined before.\n",
    "\n",
    "save_fields=\"no\" #select \"yes\" to save the computed fields as gridded data-files\n",
    "\n",
    "# Prepare initial Moho depth, Create flat starting model\n",
    "# If the starting models equals the reference layer, \n",
    "# the calculation of the first Jacobian can be skipped, as it contains only zero values!\n",
    "moho=np.ones(len(lon))*reference_moho\n",
    "moho_input=np.copy(moho*-1)\n",
    "moho_start=np.copy(moho*-1)\n",
    "\n",
    "# Prefix for file name\n",
    "prefix = \"SAM\" \n",
    "\n",
    "# Prepare layers of tesseroid model and define density contrast\n",
    "(moho_top,moho_bottom)=construct_layers_of_model(moho,reference_moho)\n",
    "moho_shift_const=np.copy(moho)/1000 + 1 # shift of the Moho depth, essential for second tesseroid model\n",
    "moho_bottom_shift = np.copy(moho_shift_const) # shifted layer\n",
    "moho_top_shift = np.copy(moho)/1000 \n",
    "\n",
    "# Define initial density contrast vector based on the first line of the density matrix\n",
    "density=np.ones(lon.shape[0])*dens_init\n",
    "for ii,jj in enumerate(value_of_units): # Transfer density combination to density contrasts of grid\n",
    "    print(ii,jj,int(ii)-1)\n",
    "    ind=np.where(tec_units[:,2]==jj)\n",
    "    density[ind]=dens_mat[0,int(ii)]\n",
    "    print(np.amin(density),np.amax(density))\n",
    "# Calculate Jacobian matrix\n",
    "J=np.zeros((len(lon),len(lon)))\n",
    "J_shift=create_Jacobian(lon,lat,moho_top_shift, moho_bottom_shift, heights, density, point_mass_number)\n",
    "\n",
    "# Invert the Moho depth and calculate residual fields \n",
    "# NOTE: To save the calculated fields and the Moho depth \"save_fields\" has to be activated!\n",
    "moho_final,bouguer_fit=invert_and_calculate(prefix,moho*-1,bouguer,J,J_shift,dmatrix,\n",
    "                                            save_fields,shape)"
   ]
  },
  {
   "cell_type": "markdown",
   "metadata": {},
   "source": [
    "#### Set preconditions for lateral variable density contrast"
   ]
  },
  {
   "cell_type": "code",
   "execution_count": 13,
   "metadata": {},
   "outputs": [
    {
     "name": "stdout",
     "output_type": "stream",
     "text": [
      "Invert density contrasts\n",
      "Number of iterations: 216\n"
     ]
    }
   ],
   "source": [
    "# Reload the gravity data\n",
    "#data=load_grav_data(farfield,sediments,area)\n",
    "#bouguer=np.copy(data[:,2])\n",
    "data=np.vstack((lon,lat,bouguer)).T\n",
    "\n",
    "# Define boundaries for calculation of RMS values\n",
    "inc=1.9\n",
    "bound=np.array(([lon_min+inc, lat_min+inc],[lon_min+inc, lat_max-inc],\n",
    "                [lon_max-inc, lat_max-inc],[lon_max-inc, lat_min+inc]))\n",
    "bound=path.Path(bound)\n",
    "inside=bound.contains_points(data[:,0:2])*1\n",
    "data[:,2]=data[:,2]*inside\n",
    "save_fields=\"no\"\n",
    "\n",
    "# Define multiplicator of density contrasts for Jacobian Matrix\n",
    "mult=np.copy(density)\n",
    "mult=mult/dens_init\n",
    "\n",
    "# Create progress bar\n",
    "bar = progressbar.ProgressBar(maxval=len(dens_mat[:,0]), \\\n",
    "widgets=[progressbar.Bar('=', '[', ']'), ' ', progressbar.Percentage()])\n",
    "print(\"Invert density contrasts\")\n",
    "print(\"Number of iterations:\",len(dens_mat[:,0]))"
   ]
  },
  {
   "cell_type": "markdown",
   "metadata": {},
   "source": [
    "#### Inversion with a laterally variable density contrast"
   ]
  },
  {
   "cell_type": "markdown",
   "metadata": {},
   "source": [
    "Depending on the extension of the study area and the number of iterations for lateral variable density contrasts this calculation might take several hours. The processbar shows you how long the calculation might take."
   ]
  },
  {
   "cell_type": "code",
   "execution_count": 14,
   "metadata": {},
   "outputs": [
    {
     "name": "stderr",
     "output_type": "stream",
     "text": [
      "[========================================================================] 100%\n"
     ]
    }
   ],
   "source": [
    "bar.start()\n",
    "for i in range(0,len(dens_mat[:,0])): # Loop over all possible combinations of density contrasts\n",
    "    bar.update(i+1)\n",
    "\n",
    "    for ii,jj in enumerate(value_of_units): # Transfer density combination to density contrasts of grid\n",
    "        ind=np.where(tec_units[:,2]==jj)\n",
    "        density[ind]=dens_mat[i,int(ii)]\n",
    "    \n",
    "    # Update the density contrasts for Jacobian Matrix\n",
    "    density=np.abs(density)\n",
    "    density=density*mult\n",
    "\n",
    "    # Weight the Jacobian Matrix\n",
    "    J_new,J_shift_new=weight_Jacobian(J,J_shift,density,dens_init)   \n",
    "    \n",
    "    # Invert the Moho depth\n",
    "    moho_final,bouguer_fit=invert_and_calculate(prefix,moho*-1,bouguer,J_new,J_shift_new,dmatrix,\n",
    "                                                save_fields,shape)\n",
    "\n",
    "    moho_int=moho_final*1000\n",
    "\n",
    "    # interpolate inverted Moho depth onto seismic stations\n",
    "    moho_resid_points,interp_arr=interp_regular_grid_on_irregular_database(area,dx,moho_int,seismic_stations)\n",
    "\n",
    "    # Compute residual Moho depth (grid)\n",
    "    moho_resid_grid=moho_input/1000-moho_final # residual Moho depth\n",
    "    \n",
    "    \n",
    "    # Create RMS values of residual field and residual Moho depths and store them in a matrix\n",
    "    rms_matrix=create_rms_matrix(rms_matrix,data,moho_resid_points,moho_resid_grid,i,bouguer_fit)\n",
    "    rms_matrix[i,5:5+number_of_units]=dens_mat[i,0:number_of_units]\n",
    "    \n",
    "    # Check fit to seismic stations and save the corresponding inverted Moho depth and density contrasts\n",
    "    if i==0:      \n",
    "        moho_save=np.array((lon,lat,moho_final*-1)).T\n",
    "        density_save=np.array((lon,lat,density)).T\n",
    "        np.savetxt(prefix+\"_inverted_Moho_best_fit.txt\",moho_save,delimiter=' ',fmt='%1.2f')\n",
    "        np.savetxt(prefix+\"_inverted_densities_best_fit.txt\",density_save,delimiter=' ',fmt='%1.1f')\n",
    "    \n",
    "    if i>=1 and rms_matrix[i,1]<np.amin(rms_matrix[0:i,1]):      \n",
    "        moho_save=np.array((lon,lat,moho_final*-1)).T\n",
    "        density_save=np.array((lon,lat,density)).T\n",
    "        np.savetxt(prefix+\"_inverted_Moho_best_fit.txt\",moho_save,delimiter=' ',fmt='%1.2f')\n",
    "        np.savetxt(prefix+\"_inverted_densities_best_fit.txt\",density_save,delimiter=' ',fmt='%1.1f')\n",
    "    \n",
    "    #print(rms_matrix[i,:])\n",
    "\n",
    "bar.finish()"
   ]
  },
  {
   "cell_type": "markdown",
   "metadata": {},
   "source": [
    "#### Prepare and save the RMS Matrix"
   ]
  },
  {
   "cell_type": "code",
   "execution_count": 15,
   "metadata": {
    "scrolled": true
   },
   "outputs": [
    {
     "name": "stdout",
     "output_type": "stream",
     "text": [
      "(216, 8)\n",
      "[2.70517383e+00 8.25283284e+00 2.24707460e+01 1.00000000e-04\n",
      " 3.00000000e+04 2.50000000e+02 3.00000000e+02 3.50000000e+02]\n"
     ]
    }
   ],
   "source": [
    "rms_matrix[:,3]=beta\n",
    "rms_matrix[:,4]=reference_moho\n",
    "print(rms_matrix.shape)\n",
    "print(rms_matrix[np.argmin(rms_matrix[:,1]),:])\n",
    "np.savetxt(\"rms_matrix.txt\",rms_matrix,delimiter=' ',fmt='%1.4f',\n",
    "           header=\"Gravity fit, Moho RMS Points, Moho RMS Grid, Beta, Ref_Moho, Density contrasts of tectonic units\")"
   ]
  },
  {
   "cell_type": "markdown",
   "metadata": {},
   "source": [
    "### Have a quick look at the best-fitting Moho depth and density contrasts"
   ]
  },
  {
   "cell_type": "code",
   "execution_count": 16,
   "metadata": {},
   "outputs": [
    {
     "data": {
      "image/png": "[encoded data removed]",
      "text/plain": [
       "<Figure size 1008x504 with 2 Axes>"
      ]
     },
     "metadata": {
      "needs_background": "light"
     },
     "output_type": "display_data"
    }
   ],
   "source": [
    "plot_data(moho_save[:,0],moho_save[:,1],moho_save[:,2],vmin=5,vmax=55,levels=11, cblabel='km')"
   ]
  },
  {
   "cell_type": "code",
   "execution_count": 17,
   "metadata": {},
   "outputs": [
    {
     "data": {
      "image/png": "[encoded data removed]",
      "text/plain": [
       "<Figure size 1008x504 with 2 Axes>"
      ]
     },
     "metadata": {
      "needs_background": "light"
     },
     "output_type": "display_data"
    }
   ],
   "source": [
    "plot_data(density_save[:,0],density_save[:,1],density_save[:,2],vmin=225,vmax=525,levels=7, cblabel='kg/m³')"
   ]
  },
  {
   "cell_type": "markdown",
   "metadata": {},
   "source": [
    "#### Plot distribution of the Moho models\n",
    "\n",
    "Works only, when a large number of density contrast combination has been run. \n",
    "The plot extensions can be changed by the user"
   ]
  },
  {
   "cell_type": "code",
   "execution_count": 18,
   "metadata": {},
   "outputs": [],
   "source": [
    "no_models=500 # select number of models to plot. Value should be less than 10% of all combinations "
   ]
  },
  {
   "cell_type": "code",
   "execution_count": 19,
   "metadata": {},
   "outputs": [
    {
     "data": {
      "image/png": "[encoded data removed]",
      "text/plain": [
       "<Figure size 432x288 with 1 Axes>"
      ]
     },
     "metadata": {
      "needs_background": "light"
     },
     "output_type": "display_data"
    }
   ],
   "source": [
    "I = np.argsort(rms_matrix[:,1]) \n",
    "rms_matrix=rms_matrix[I,:]\n",
    "bin_size=0.2\n",
    "lower=np.around(np.amin(rms_matrix[:,1]))-bin_size\n",
    "upper=np.around(np.amax(rms_matrix[:,1]))+bin_size\n",
    "bins=np.arange(lower,upper,bin_size)\n",
    "fig, ax = plt.subplots()\n",
    "plt.hist(rms_matrix[:,1], bins = bins,color='lightgrey')\n",
    "plt.hist(rms_matrix[0:no_models,1], bins = bins) \n",
    "plt.xticks(np.arange(lower,upper,bin_size*2),fontsize=12,fontname=\"Arial\")\n",
    "plt.yticks(np.arange(0,1001,100),fontsize=12,fontname=\"Arial\")\n",
    "ax.xaxis.set_minor_locator(MultipleLocator(bin_size))\n",
    "ax.yaxis.set_minor_locator(MultipleLocator(50))\n",
    "plt.xlabel('Error of Moho model [$km$]',fontsize=12,fontname=\"Arial\")\n",
    "plt.ylabel('Counts',fontsize=12,fontname=\"Arial\")\n",
    "#plt.savefig(\"Error_of_Moho.png\", bbox_inches = 'tight', pad_inches = 0,dpi=300,transparent=True)\n",
    "plt.show()"
   ]
  },
  {
   "cell_type": "markdown",
   "metadata": {},
   "source": [
    "#### Prepare inverted density contrasts"
   ]
  },
  {
   "cell_type": "code",
   "execution_count": 20,
   "metadata": {},
   "outputs": [],
   "source": [
    "values=np.around(np.arange(0,number_of_units+0.1-1,1))\n",
    "dens_counts=np.zeros((0,2))\n",
    "for i in values:\n",
    "    unique, counts = np.unique(rms_matrix[0:no_models,int(i)+5], return_counts=True)\n",
    "    val=np.array((unique,counts)).T\n",
    "    if val[0,0]!=dens_min:\n",
    "        fill=np.arange(dens_min,val[0,0],dens_inc)\n",
    "        fill=np.array((fill,np.zeros(len(fill)))).T\n",
    "        val=np.concatenate((fill,val),axis=0)\n",
    "    if val[-1,0]!=dens_max:\n",
    "        fill=np.arange(val[-1,0]+dens_inc,dens_max+0.1,dens_inc)\n",
    "        fill=np.array((fill,np.zeros(len(fill)))).T\n",
    "        val=np.concatenate((val,fill),axis=0)\n",
    "    dens_counts=np.append(dens_counts,val,axis=0)"
   ]
  },
  {
   "cell_type": "markdown",
   "metadata": {},
   "source": [
    "#### Plot distribution of inverted density contrasts"
   ]
  },
  {
   "cell_type": "code",
   "execution_count": 21,
   "metadata": {},
   "outputs": [
    {
     "data": {
      "image/png": "[encoded data removed]",
      "text/plain": [
       "<Figure size 432x288 with 1 Axes>"
      ]
     },
     "metadata": {
      "needs_background": "light"
     },
     "output_type": "display_data"
    }
   ],
   "source": [
    "rgb_values=np.array(([61.0,204.0,75.0],[0.0,64.0,255.0],[167.0,186.0,209.0],\n",
    "                     [204.0,3.0,0.0],[255.0,187.0,51.0],[178.0,152.0,152.0]))/255\n",
    "\n",
    "fig,ax = plt.subplots()\n",
    "labels=[\"Craton\",\"Precambrian Belt\",\"Phanerozoic\",\"Ridges\",\"Oceanic\",\"Oldest Oceanic\"]\n",
    "for i,ii in enumerate(value_of_units):\n",
    "    comb=dens_counts[i*len(k):len(k)*(i+1),:]\n",
    "    plt.plot(comb[:,0], comb[:,1], '--', color=(rgb_values[int(ii)-1]),label=labels[int(ii)-1])\n",
    "    plt.plot(comb[:,0], comb[:,1], '.',markersize=12, color=\"white\", markeredgecolor=(rgb_values[int(ii)-1]))\n",
    "    plt.plot(comb[np.argmax(comb[:,1]),0],comb[np.argmax(comb[:,1]),1],'.',markersize=15,color=(rgb_values[int(ii)-1]))\n",
    "\n",
    "ax.yaxis.set_minor_locator(MultipleLocator(100))\n",
    "plt.xticks(k,fontsize=10,fontname=\"Arial\")\n",
    "plt.yticks(np.arange(0,1001,200),fontsize=10,fontname=\"Arial\")\n",
    "plt.xlabel('Density contrast [kgm$^{-3}$]',fontsize=10,fontname=\"Arial\")\n",
    "plt.ylabel('Counts',fontsize=10,fontname=\"Arial\")\n",
    "font = font_manager.FontProperties(family='Arial',size=9)\n",
    "plt.legend(prop=font)\n",
    "#plt.savefig(\"Distribution_density_contrasts.png\", bbox_inches = 'tight', pad_inches = 0,dpi=300)\n",
    "plt.show()"
   ]
  },
  {
   "cell_type": "code",
   "execution_count": null,
   "metadata": {},
   "outputs": [],
   "source": []
  }
 ],
 "metadata": {
  "kernelspec": {
   "display_name": "Python 3",
   "language": "python",
   "name": "python3"
  },
  "language_info": {
   "codemirror_mode": {
    "name": "ipython",
    "version": 3
   },
   "file_extension": ".py",
   "mimetype": "text/x-python",
   "name": "python",
   "nbconvert_exporter": "python",
   "pygments_lexer": "ipython3",
   "version": "3.7.6"
  }
 },
 "nbformat": 4,
 "nbformat_minor": 1
}
