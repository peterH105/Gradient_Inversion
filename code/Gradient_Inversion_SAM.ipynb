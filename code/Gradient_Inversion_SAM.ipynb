{
 "cells": [
  {
   "cell_type": "markdown",
   "metadata": {},
   "source": [
    "\n",
    "\n",
    "Inversion of the Moho depth using gravity gradient data\n",
    "----------------------------------------\n",
    "\n",
    "This Jupyter Notebook allows the inversion of gravity gradient or vertical gravity data to obtain the Moho depth. \n",
    "The script is designed to define a laterally variable density, based on tectonic units. The tectonic units can be changed manually.\n",
    "\n",
    "First the gravity data and tectonic units are loaded, as well as preconditions for the inversion are set.\n",
    "Second, the inversion is performed once using a single value of Reference Moho depth and density contrast, in order to calculate a reference Jacobian Matrix.\n",
    "Finally, the variable density contrast is integrated and the inverted Moho depth and density contrast are calculated. \n",
    "\n",
    "For official use, please cite the paper: Haas, P., Ebbing J., Szwillus W. - Sensitivity analysis of gravity gradient inversion of the Moho depth – A case example for the Amazonian Craton, Geophysical Journal International, 2020.\n",
    "\n",
    "You need Python 3 to run this notebook. This notebok has been tested on a Windows machine.\n",
    "\n",
    "\n",
    "\n"
   ]
  },
  {
   "cell_type": "markdown",
   "metadata": {},
   "source": [
    "#### Load the Python packages that are required for the inversion"
   ]
  },
  {
   "cell_type": "code",
   "execution_count": 1,
   "metadata": {},
   "outputs": [],
   "source": [
    "%matplotlib inline\n",
    "\n",
    "import numpy as np\n",
    "from grad_inv_functions import *\n",
    "import matplotlib.pyplot as plt\n",
    "import matplotlib.font_manager as font_manager\n",
    "from matplotlib import path\n",
    "from matplotlib.ticker import (MultipleLocator, FormatStrFormatter,\n",
    "                               AutoMinorLocator)\n",
    "import time\n",
    "import progressbar"
   ]
  },
  {
   "cell_type": "markdown",
   "metadata": {},
   "source": [
    "#### Set parameters for the inversion"
   ]
  },
  {
   "cell_type": "code",
   "execution_count": 2,
   "metadata": {},
   "outputs": [],
   "source": [
    "lon_min=-80 #Define coordinates of study area. If coordinates are changed, farfield effect has to be deactivated\n",
    "lon_max=-30\n",
    "lat_min=-30\n",
    "lat_max=20\n",
    "\n",
    "dx=1.0 # define grid cell size (should be 1.0 degree)\n",
    "dy=1.0\n",
    "\n",
    "data_name=\"Moho_Amazonia_1deg_real_data_sed\"\n",
    "# Define Prefix name of output files \n",
    "\n",
    "mode=\"single\" # Choose between\"single\" and \"FTG\". \"Single\" forward calculates the gravitational effect \n",
    "              #of the inverted component only, \n",
    "              # \"Full\" calculates the FTG and gz of the predicted Moho of the inverted component.\n",
    "component=\"gzz\" # choose between all gradient components and gz (in XYZ coordinate system)\n",
    "farfield=\"yes\" # choose between \"yes\" and \"no\" to include gravitational effect of farfield isostasy\n",
    "sediments=\"no\" # choose between \"yes\" and \"no\" to include gravitational effect of sediments\n",
    "\n",
    "dens_min,dens_max,dens_inc=250.0,500.0,50\n",
    "j=np.arange(-30000, -30001, -2500) # select range and increment of reference Moho depth (should be constant)\n",
    "k=np.arange(dens_min,dens_max+0.1,dens_inc) # select range and increment of density contrast\n",
    "l=np.arange(1,1.1,1) #  select number of iterations\n",
    "beta=np.arange(1e-4,1.1e-4,1e-4) # select range and increment of smoothing parameter (should be constant)\n",
    "\n",
    "\n",
    "# Define some initial conditions\n",
    "dens_init=k[0]\n",
    "lon=np.arange(lon_min,lon_max+dx,dx)\n",
    "lat=np.arange(lat_min,lat_max+dy,dy)\n",
    "longr,latgr = np.meshgrid(lon,lat)\n",
    "\n",
    "#  Prepare vectors and grids for tesseroid model\n",
    "lon=longr.flatten() \n",
    "lat=latgr.flatten()\n",
    "height_km=225 \n",
    "area = (lat.min(), lat.max(), lon.min(), lon.max())\n",
    "shape=np.array((abs(lat_max-lat_min)/dy+1,abs(lon_max-lon_min)/dx+1))\n",
    "shape=shape.astype(int)"
   ]
  },
  {
   "cell_type": "markdown",
   "metadata": {},
   "source": [
    "#### Load and prepare the data\n",
    "\n",
    "Seismic stations and tectonic units can be changed manually and are cut to the study area. The function \"Doperator\" calculates the smoothing matrix for the inversion using 2nd-order Tikhonov regularization.\n",
    "The tectonic units are used to create density combinations and have to be organized as clusters.  \n"
   ]
  },
  {
   "cell_type": "code",
   "execution_count": 3,
   "metadata": {},
   "outputs": [],
   "source": [
    "# Load and prepare seismic data\n",
    "seismic_stations=np.loadtxt(\"Seismic_Moho_USGS_global.txt\")\n",
    "seismic_stations=cut_data_to_study_area(seismic_stations,area)\n",
    "seismic_stations=seismic_stations[np.lexsort((seismic_stations[:,0],seismic_stations[:,1]))]\n",
    "\n",
    "#Prepare Regularization\n",
    "dmatrix_init=Doperator(shape,dx,dy)\n",
    "smooth_matrix=np.eye(lon.size)*beta\n",
    "dmatrix=dmatrix_init*beta\n",
    "\n",
    "# Load and prepare clustering analysis\n",
    "# The tectonic units have to be in xyz-format\n",
    "tec_units=np.loadtxt('SL2013sv_Cluster_1d_interp.xyz')\n",
    "tec_units=cut_data_to_study_area(tec_units,area)\n",
    "tec_units=tec_units[np.lexsort((tec_units[:,0],tec_units[:,1]))]\n",
    "number_of_units=len(np.unique(tec_units[:,2]))\n",
    "dens_mat=create_density_combinations(k,number_of_units)\n",
    "#dens_mat=np.ones((3,6))*400  # This line can be activated to manually define the number of density combinations\n",
    "rms_matrix=np.zeros((k.size**number_of_units,number_of_units+5))"
   ]
  },
  {
   "cell_type": "markdown",
   "metadata": {},
   "source": [
    "#### Inversion with single reference Moho depth and constant density contrast\n",
    "\n",
    "The inversion of the gravity data is now performed once to obtain the reference Jacobian Matrix. Optionally, the inverted Moho depth as well as the residual field can be stored. "
   ]
  },
  {
   "cell_type": "code",
   "execution_count": 4,
   "metadata": {},
   "outputs": [
    {
     "name": "stdout",
     "output_type": "stream",
     "text": [
      "iteration= 1.0\n"
     ]
    },
    {
     "name": "stderr",
     "output_type": "stream",
     "text": [
      "\r",
      "[                                                                        ] N/A%"
     ]
    },
    {
     "name": "stdout",
     "output_type": "stream",
     "text": [
      "Calculate 1st Jacobian\n"
     ]
    },
    {
     "name": "stderr",
     "output_type": "stream",
     "text": [
      "[=                                                                       ]   2%"
     ]
    },
    {
     "ename": "KeyboardInterrupt",
     "evalue": "",
     "output_type": "error",
     "traceback": [
      "\u001b[1;31m---------------------------------------------------------------------------\u001b[0m",
      "\u001b[1;31mKeyboardInterrupt\u001b[0m                         Traceback (most recent call last)",
      "\u001b[1;32m<ipython-input-4-a9bdafbe4848>\u001b[0m in \u001b[0;36m<module>\u001b[1;34m\u001b[0m\n\u001b[0;32m     35\u001b[0m         \u001b[1;31m# Create the Jacobian Matrix\u001b[0m\u001b[1;33m\u001b[0m\u001b[1;33m\u001b[0m\u001b[1;33m\u001b[0m\u001b[0m\n\u001b[0;32m     36\u001b[0m         J,J_shift,bigger_mat=create_Jacobian(longr,latgr,component,\n\u001b[1;32m---> 37\u001b[1;33m                                 moho_top,moho_bottom,moho_top_shift,moho_bottom_shift,height_km,density)\n\u001b[0m\u001b[0;32m     38\u001b[0m \u001b[1;33m\u001b[0m\u001b[0m\n\u001b[0;32m     39\u001b[0m         \u001b[1;31m# Invert the Moho depth and calculate residual fields\u001b[0m\u001b[1;33m\u001b[0m\u001b[1;33m\u001b[0m\u001b[1;33m\u001b[0m\u001b[0m\n",
      "\u001b[1;32m~\\Documents\\PhD\\Paper_Gradient_Inversion_SAM\\Revision\\code\\grad_inv_functions.py\u001b[0m in \u001b[0;36mcreate_Jacobian\u001b[1;34m(lonGrid, latGrid, component, top, bottom, top_shift, bottom_shift, height_km, dens)\u001b[0m\n\u001b[0;32m    109\u001b[0m     \u001b[0mdens\u001b[0m\u001b[1;33m=\u001b[0m\u001b[0mnp\u001b[0m\u001b[1;33m.\u001b[0m\u001b[0mabs\u001b[0m\u001b[1;33m(\u001b[0m\u001b[0mdens\u001b[0m\u001b[1;33m)\u001b[0m\u001b[1;33m\u001b[0m\u001b[1;33m\u001b[0m\u001b[0m\n\u001b[0;32m    110\u001b[0m     \u001b[0mprint\u001b[0m\u001b[1;33m(\u001b[0m\u001b[1;34m\"Calculate 1st Jacobian\"\u001b[0m\u001b[1;33m)\u001b[0m\u001b[1;33m\u001b[0m\u001b[1;33m\u001b[0m\u001b[0m\n\u001b[1;32m--> 111\u001b[1;33m     \u001b[0mJ\u001b[0m\u001b[1;33m,\u001b[0m \u001b[0mbigger_mat\u001b[0m \u001b[1;33m=\u001b[0m \u001b[0mget_inversion_design_matrix\u001b[0m\u001b[1;33m(\u001b[0m\u001b[0mtesses\u001b[0m\u001b[1;33m,\u001b[0m\u001b[0mstations\u001b[0m\u001b[1;33m,\u001b[0m\u001b[0mcomponent\u001b[0m\u001b[1;33m)\u001b[0m\u001b[1;33m\u001b[0m\u001b[1;33m\u001b[0m\u001b[0m\n\u001b[0m\u001b[0;32m    112\u001b[0m     \u001b[0mtesses_shift\u001b[0m \u001b[1;33m=\u001b[0m \u001b[0mconstruct_tesseroids_from_interface\u001b[0m\u001b[1;33m(\u001b[0m\u001b[0mlonGrid\u001b[0m\u001b[1;33m,\u001b[0m\u001b[0mlatGrid\u001b[0m\u001b[1;33m,\u001b[0m\u001b[0mtop_shift\u001b[0m\u001b[1;33m*\u001b[0m\u001b[1;36m0.001\u001b[0m\u001b[1;33m,\u001b[0m\u001b[0mbottom_shift\u001b[0m\u001b[1;33m*\u001b[0m\u001b[1;36m0.001\u001b[0m\u001b[1;33m,\u001b[0m \u001b[0mdens\u001b[0m\u001b[1;33m)\u001b[0m\u001b[1;33m\u001b[0m\u001b[1;33m\u001b[0m\u001b[0m\n\u001b[0;32m    113\u001b[0m     \u001b[0mmode\u001b[0m\u001b[1;33m=\u001b[0m\u001b[1;34m\"single\"\u001b[0m\u001b[1;33m\u001b[0m\u001b[1;33m\u001b[0m\u001b[0m\n",
      "\u001b[1;32m~\\Documents\\PhD\\Paper_Gradient_Inversion_SAM\\Revision\\code\\grad_inv_functions.py\u001b[0m in \u001b[0;36mget_inversion_design_matrix\u001b[1;34m(tesses, stations, component)\u001b[0m\n\u001b[0;32m     75\u001b[0m                 \u001b[0mos\u001b[0m\u001b[1;33m.\u001b[0m\u001b[0mremove\u001b[0m\u001b[1;33m(\u001b[0m\u001b[0mtess_file_path\u001b[0m\u001b[1;33m)\u001b[0m\u001b[1;33m\u001b[0m\u001b[1;33m\u001b[0m\u001b[0m\n\u001b[0;32m     76\u001b[0m             \u001b[1;32mif\u001b[0m \u001b[0mcomponent\u001b[0m\u001b[1;33m==\u001b[0m\u001b[1;34m\"gzz\"\u001b[0m\u001b[1;33m:\u001b[0m\u001b[1;33m\u001b[0m\u001b[1;33m\u001b[0m\u001b[0m\n\u001b[1;32m---> 77\u001b[1;33m                 \u001b[0msubzz\u001b[0m \u001b[1;33m=\u001b[0m \u001b[0msubprocess\u001b[0m\u001b[1;33m.\u001b[0m\u001b[0mPopen\u001b[0m\u001b[1;33m(\u001b[0m\u001b[1;33m(\u001b[0m\u001b[1;34m\"Tesseroids/tessgzz.exe\"\u001b[0m\u001b[1;33m,\u001b[0m\u001b[0mtess_file_path\u001b[0m\u001b[1;33m)\u001b[0m\u001b[1;33m,\u001b[0m\u001b[0mstdin\u001b[0m\u001b[1;33m=\u001b[0m\u001b[0mh\u001b[0m\u001b[1;33m,\u001b[0m \u001b[0mstdout\u001b[0m\u001b[1;33m=\u001b[0m\u001b[0msubprocess\u001b[0m\u001b[1;33m.\u001b[0m\u001b[0mPIPE\u001b[0m\u001b[1;33m)\u001b[0m\u001b[1;33m\u001b[0m\u001b[1;33m\u001b[0m\u001b[0m\n\u001b[0m\u001b[0;32m     78\u001b[0m                 \u001b[0mbig_mat\u001b[0m\u001b[1;33m[\u001b[0m\u001b[1;33m:\u001b[0m\u001b[1;33m,\u001b[0m\u001b[0mi\u001b[0m\u001b[1;33m]\u001b[0m \u001b[1;33m=\u001b[0m \u001b[0mnp\u001b[0m\u001b[1;33m.\u001b[0m\u001b[0mgenfromtxt\u001b[0m\u001b[1;33m(\u001b[0m\u001b[0msubzz\u001b[0m\u001b[1;33m.\u001b[0m\u001b[0mcommunicate\u001b[0m\u001b[1;33m(\u001b[0m\u001b[1;33m)\u001b[0m\u001b[1;33m[\u001b[0m\u001b[1;36m0\u001b[0m\u001b[1;33m]\u001b[0m\u001b[1;33m.\u001b[0m\u001b[0mdecode\u001b[0m\u001b[1;33m(\u001b[0m\u001b[1;33m)\u001b[0m\u001b[1;33m.\u001b[0m\u001b[0msplit\u001b[0m\u001b[1;33m(\u001b[0m\u001b[1;34m'\\n'\u001b[0m\u001b[1;33m)\u001b[0m\u001b[1;33m)\u001b[0m\u001b[1;33m[\u001b[0m\u001b[1;33m:\u001b[0m\u001b[1;33m,\u001b[0m\u001b[1;36m3\u001b[0m\u001b[1;33m]\u001b[0m\u001b[1;33m\u001b[0m\u001b[1;33m\u001b[0m\u001b[0m\n\u001b[0;32m     79\u001b[0m                 \u001b[0mos\u001b[0m\u001b[1;33m.\u001b[0m\u001b[0mremove\u001b[0m\u001b[1;33m(\u001b[0m\u001b[0mtess_file_path\u001b[0m\u001b[1;33m)\u001b[0m\u001b[1;33m\u001b[0m\u001b[1;33m\u001b[0m\u001b[0m\n",
      "\u001b[1;32m~\\Anaconda3\\lib\\subprocess.py\u001b[0m in \u001b[0;36m__init__\u001b[1;34m(self, args, bufsize, executable, stdin, stdout, stderr, preexec_fn, close_fds, shell, cwd, env, universal_newlines, startupinfo, creationflags, restore_signals, start_new_session, pass_fds, encoding, errors, text)\u001b[0m\n\u001b[0;32m    726\u001b[0m         (p2cread, p2cwrite,\n\u001b[0;32m    727\u001b[0m          \u001b[0mc2pread\u001b[0m\u001b[1;33m,\u001b[0m \u001b[0mc2pwrite\u001b[0m\u001b[1;33m,\u001b[0m\u001b[1;33m\u001b[0m\u001b[1;33m\u001b[0m\u001b[0m\n\u001b[1;32m--> 728\u001b[1;33m          errread, errwrite) = self._get_handles(stdin, stdout, stderr)\n\u001b[0m\u001b[0;32m    729\u001b[0m \u001b[1;33m\u001b[0m\u001b[0m\n\u001b[0;32m    730\u001b[0m         \u001b[1;31m# We wrap OS handles *before* launching the child, otherwise a\u001b[0m\u001b[1;33m\u001b[0m\u001b[1;33m\u001b[0m\u001b[1;33m\u001b[0m\u001b[0m\n",
      "\u001b[1;32m~\\Anaconda3\\lib\\subprocess.py\u001b[0m in \u001b[0;36m_get_handles\u001b[1;34m(self, stdin, stdout, stderr)\u001b[0m\n\u001b[0;32m   1076\u001b[0m                 \u001b[1;31m# Assuming file-like object\u001b[0m\u001b[1;33m\u001b[0m\u001b[1;33m\u001b[0m\u001b[1;33m\u001b[0m\u001b[0m\n\u001b[0;32m   1077\u001b[0m                 \u001b[0merrwrite\u001b[0m \u001b[1;33m=\u001b[0m \u001b[0mmsvcrt\u001b[0m\u001b[1;33m.\u001b[0m\u001b[0mget_osfhandle\u001b[0m\u001b[1;33m(\u001b[0m\u001b[0mstderr\u001b[0m\u001b[1;33m.\u001b[0m\u001b[0mfileno\u001b[0m\u001b[1;33m(\u001b[0m\u001b[1;33m)\u001b[0m\u001b[1;33m)\u001b[0m\u001b[1;33m\u001b[0m\u001b[1;33m\u001b[0m\u001b[0m\n\u001b[1;32m-> 1078\u001b[1;33m             \u001b[0merrwrite\u001b[0m \u001b[1;33m=\u001b[0m \u001b[0mself\u001b[0m\u001b[1;33m.\u001b[0m\u001b[0m_make_inheritable\u001b[0m\u001b[1;33m(\u001b[0m\u001b[0merrwrite\u001b[0m\u001b[1;33m)\u001b[0m\u001b[1;33m\u001b[0m\u001b[1;33m\u001b[0m\u001b[0m\n\u001b[0m\u001b[0;32m   1079\u001b[0m \u001b[1;33m\u001b[0m\u001b[0m\n\u001b[0;32m   1080\u001b[0m             return (p2cread, p2cwrite,\n",
      "\u001b[1;32m~\\Anaconda3\\lib\\subprocess.py\u001b[0m in \u001b[0;36m_make_inheritable\u001b[1;34m(self, handle)\u001b[0m\n\u001b[0;32m   1088\u001b[0m                 \u001b[0m_winapi\u001b[0m\u001b[1;33m.\u001b[0m\u001b[0mGetCurrentProcess\u001b[0m\u001b[1;33m(\u001b[0m\u001b[1;33m)\u001b[0m\u001b[1;33m,\u001b[0m \u001b[0mhandle\u001b[0m\u001b[1;33m,\u001b[0m\u001b[1;33m\u001b[0m\u001b[1;33m\u001b[0m\u001b[0m\n\u001b[0;32m   1089\u001b[0m                 \u001b[0m_winapi\u001b[0m\u001b[1;33m.\u001b[0m\u001b[0mGetCurrentProcess\u001b[0m\u001b[1;33m(\u001b[0m\u001b[1;33m)\u001b[0m\u001b[1;33m,\u001b[0m \u001b[1;36m0\u001b[0m\u001b[1;33m,\u001b[0m \u001b[1;36m1\u001b[0m\u001b[1;33m,\u001b[0m\u001b[1;33m\u001b[0m\u001b[1;33m\u001b[0m\u001b[0m\n\u001b[1;32m-> 1090\u001b[1;33m                 _winapi.DUPLICATE_SAME_ACCESS)\n\u001b[0m\u001b[0;32m   1091\u001b[0m             \u001b[1;32mreturn\u001b[0m \u001b[0mHandle\u001b[0m\u001b[1;33m(\u001b[0m\u001b[0mh\u001b[0m\u001b[1;33m)\u001b[0m\u001b[1;33m\u001b[0m\u001b[1;33m\u001b[0m\u001b[0m\n\u001b[0;32m   1092\u001b[0m \u001b[1;33m\u001b[0m\u001b[0m\n",
      "\u001b[1;31mKeyboardInterrupt\u001b[0m: "
     ]
    }
   ],
   "source": [
    "save_fields=\"no\" #select \"yes\" to save the computed fields as gridded data-files\n",
    "\n",
    "for refmoho in j: # Loop over reference Moho depth\n",
    "\n",
    "    # Load and prepare initial Moho depth\n",
    "    moho=np.loadtxt(\"IsoMoho_Airy_initial_1degree.txt\")\n",
    "    moho=cut_data_to_study_area(moho,area)\n",
    "    moho=moho[np.lexsort((moho[:,0],moho[:,1]))]\n",
    "    moho_input=moho[:,2]\n",
    "    moho_start=np.copy(moho)\n",
    "    \n",
    "    # Create flat starting model\n",
    "    moho=moho[:,2]*0-30000\n",
    "\n",
    "    for iteration in l: # Loop over iteration number\n",
    "\n",
    "        print(\"iteration=\",iteration)\n",
    "        \n",
    "        # Prefix for file name\n",
    "        prefix = \"%s_%s_farfield_%s_%dkm_it%d\" % (data_name,component,farfield,\n",
    "                                                             height_km,iteration)\n",
    "        \n",
    "        # Prepare layers of tesseroid model and define density contrast\n",
    "        (moho,moho_top,moho_bottom,moho_top_shift,moho_bottom_shift,\n",
    "         reference)=construct_layers_for_gradient_inversion(refmoho,moho,area,dx,dy) \n",
    "        density=np.ones(lon.shape[0])*dens_init\n",
    "        density[moho < reference] = -dens_init\n",
    "\n",
    "        # Load the gravitational data\n",
    "        # IMPORTANT: To invert other components than gzz, the gravity data in the source code have to be \n",
    "        # changed manually!\n",
    "        data=load_grav_data(farfield,sediments,area)\n",
    "        bouguer=data[:,2]\n",
    "\n",
    "        # Create the Jacobian Matrix\n",
    "        J,J_shift,bigger_mat=create_Jacobian(longr,latgr,component,\n",
    "                                moho_top,moho_bottom,moho_top_shift,moho_bottom_shift,height_km,density)\n",
    "        \n",
    "        # Invert the Moho depth and calculate residual fields \n",
    "        # NOTE: To save the calculated fields and the Moho depth \"save_fields\" has to be activated!\n",
    "        moho_final,bouguer_fit=invert_and_calculate(prefix,moho,bouguer,J,J_shift,bigger_mat,dmatrix,\n",
    "                                                    save_fields,mode,shape)"
   ]
  },
  {
   "cell_type": "markdown",
   "metadata": {},
   "source": [
    "#### Set preconditions for lateral variable density contrast"
   ]
  },
  {
   "cell_type": "code",
   "execution_count": null,
   "metadata": {},
   "outputs": [],
   "source": [
    "# Reload the gravity data\n",
    "data=load_grav_data(farfield,sediments,area)\n",
    "bouguer=np.copy(data[:,2])\n",
    "\n",
    "# Define boundaries for calculation of RMS values\n",
    "inc=1.9\n",
    "bound=np.array(([lon_min+inc, lat_min+inc],[lon_min+inc, lat_max-inc],\n",
    "                [lon_max-inc, lat_max-inc],[lon_max-inc, lat_min+inc]))\n",
    "bound=path.Path(bound)\n",
    "inside=bound.contains_points(data[:,0:2])*1\n",
    "data[:,2]=data[:,2]*inside\n",
    "save_fields=\"no\"\n",
    "\n",
    "# Define multiplicator of density contrasts for Jacobian Matrix\n",
    "mult=np.copy(density)\n",
    "mult=mult/dens_init\n",
    "\n",
    "# Create progress bar\n",
    "bar = progressbar.ProgressBar(maxval=len(dens_mat[:,0]), \\\n",
    "widgets=[progressbar.Bar('=', '[', ']'), ' ', progressbar.Percentage()])\n",
    "print(\"Invert density contrasts\")\n",
    "print(\"Number of iterations:\",len(dens_mat[:,0]))"
   ]
  },
  {
   "cell_type": "markdown",
   "metadata": {},
   "source": [
    "#### Inversion with a laterally variable density contrast"
   ]
  },
  {
   "cell_type": "code",
   "execution_count": null,
   "metadata": {},
   "outputs": [],
   "source": [
    "bar.start()\n",
    "for i in range(0,len(dens_mat[:,0])): # Loop over all possible combinations of density contrasts\n",
    "#for i in range(13380,13420):# select only a single or a range of density contrasts\n",
    "    #print(i, end='\\r')\n",
    "    bar.update(i+1)\n",
    "\n",
    "    for ii in range(1,number_of_units+1): # Transfer density combination to density contrasts of grid\n",
    "        ind=np.where(tec_units[:,2]==ii)\n",
    "        density[ind]=dens_mat[i,ii-1]\n",
    "    \n",
    "    # Update the density contrasts for Jacobian Matrix\n",
    "    density=np.abs(density)\n",
    "    density=density*mult\n",
    "\n",
    "    # Weight the Jacobian Matrix\n",
    "    J_new,J_shift_new=weight_Jacobian(J,J_shift,density,dens_init)   \n",
    "    \n",
    "    # Invert the Moho depth, NOTE: calculation of fields is deprecated in this case\n",
    "    moho_final,bouguer_fit=invert_and_calculate(prefix,moho,bouguer,J_new,J_shift_new,bigger_mat,dmatrix,\n",
    "                                                save_fields,mode,shape)\n",
    "\n",
    "    moho_int=moho_final*1000\n",
    "\n",
    "    # interpolate inverted Moho depth onto seismic stations\n",
    "    moho_resid_points,interp_arr=interp_regular_grid_on_irregular_database(area,dx,moho_int,seismic_stations)\n",
    "\n",
    "    # Compute residual Moho depth (grid)\n",
    "    moho_resid_grid=moho_input-moho_final*-1 # residual Moho depth\n",
    "    \n",
    "    \n",
    "    # Create RMS values of residual field and residual Moho depths and store them in a matrix\n",
    "    rms_matrix=create_rms_matrix(rms_matrix,data,moho_resid_points,moho_resid_grid,i,bouguer_fit)\n",
    "    rms_matrix[i,5:5+number_of_units]=dens_mat[i,0:number_of_units]\n",
    "    \n",
    "    # Check fit to seismic stations and save the corresponding inverted Moho depth and density contrasts\n",
    "    if i>1:      \n",
    "        if rms_matrix[i,1]<np.amin(rms_matrix[0:i,1]):\n",
    "            moho_save=np.array((lon,lat,moho_final*-1)).T\n",
    "            density_save=np.array((lon,lat,density)).T\n",
    "            np.savetxt(prefix+\"_inverted_Moho_best_fit.txt\",moho_save,delimiter=' ',fmt='%1.2f')\n",
    "            np.savetxt(prefix+\"_inverted_densities_best_fit.txt\",density_save,delimiter=' ',fmt='%1.1f')\n",
    "    \n",
    "    #print(rms_matrix[i,:])\n",
    "\n",
    "bar.finish()"
   ]
  },
  {
   "cell_type": "markdown",
   "metadata": {},
   "source": [
    "#### Prepare and save the RMS Matrix"
   ]
  },
  {
   "cell_type": "code",
   "execution_count": null,
   "metadata": {
    "scrolled": true
   },
   "outputs": [],
   "source": [
    "rms_matrix[:,3]=beta\n",
    "rms_matrix[:,4]=refmoho\n",
    "print(rms_matrix.shape)\n",
    "print(rms_matrix[np.argmin(rms_matrix[:,1]),:])\n",
    "np.savetxt(\"rms_matrix.txt\",rms_matrix,delimiter=' ',fmt='%1.4f',\n",
    "           header=\"Gravity fit, Moho RMS Points, Moho RMS Grid, Beta, Ref_Moho, Density contrasts of tectonic units\")"
   ]
  },
  {
   "cell_type": "markdown",
   "metadata": {},
   "source": [
    "#### Plot distribution of the Moho models\n",
    "\n",
    "The plot extensions can be changed by the user"
   ]
  },
  {
   "cell_type": "code",
   "execution_count": null,
   "metadata": {},
   "outputs": [],
   "source": [
    "no_models=1000 # select number of models to plot "
   ]
  },
  {
   "cell_type": "code",
   "execution_count": null,
   "metadata": {},
   "outputs": [],
   "source": [
    "I = np.argsort(rms_matrix[:,1]) \n",
    "rms_matrix=rms_matrix[I,:]\n",
    "bin_size=0.2\n",
    "lower=np.around(np.amin(rms_matrix[:,1]))-bin_size\n",
    "upper=np.around(np.amax(rms_matrix[:,1]))+bin_size\n",
    "bins=np.arange(lower,upper,bin_size)\n",
    "fig, ax = plt.subplots()\n",
    "plt.hist(rms_matrix[:,1], bins = bins,color='lightgrey')\n",
    "plt.hist(rms_matrix[0:no_models,1], bins = bins) \n",
    "plt.xticks(np.arange(lower,upper,bin_size*2),fontsize=12,fontname=\"Arial\")\n",
    "plt.yticks(np.arange(0,1001,100),fontsize=12,fontname=\"Arial\")\n",
    "ax.xaxis.set_minor_locator(MultipleLocator(bin_size))\n",
    "ax.yaxis.set_minor_locator(MultipleLocator(50))\n",
    "plt.xlabel('Error of Moho model [$km$]',fontsize=12,fontname=\"Arial\")\n",
    "plt.ylabel('Counts',fontsize=12,fontname=\"Arial\")\n",
    "#plt.savefig(\"test_rmss2.png\", bbox_inches = 'tight', pad_inches = 0,dpi=300,transparent=True)\n",
    "plt.show()"
   ]
  },
  {
   "cell_type": "markdown",
   "metadata": {},
   "source": [
    "#### Prepare inverted density contrasts"
   ]
  },
  {
   "cell_type": "code",
   "execution_count": null,
   "metadata": {},
   "outputs": [],
   "source": [
    "values=np.around(np.arange(0,number_of_units+0.1-1,1))\n",
    "dens_counts=np.zeros((0,2))\n",
    "for i in values: \n",
    "    unique, counts = np.unique(rms_matrix[0:no_models,int(i)+5], return_counts=True)\n",
    "    val=np.array((unique,counts)).T\n",
    "    if val[0,0]!=dens_min:\n",
    "        fill=np.arange(dens_min,val[0,0],dens_inc)\n",
    "        fill=np.array((fill,np.zeros(len(fill)))).T\n",
    "        val=np.concatenate((fill,val),axis=0)\n",
    "    if val[-1,0]!=dens_max:\n",
    "        fill=np.arange(val[-1,0]+dens_inc,dens_max+0.1,dens_inc)\n",
    "        fill=np.array((fill,np.zeros(len(fill)))).T\n",
    "        val=np.concatenate((val,fill),axis=0)\n",
    "    dens_counts=np.append(dens_counts,val,axis=0)"
   ]
  },
  {
   "cell_type": "markdown",
   "metadata": {},
   "source": [
    "#### Plot distribution of inverted density contrasts"
   ]
  },
  {
   "cell_type": "code",
   "execution_count": null,
   "metadata": {},
   "outputs": [],
   "source": [
    "rgb_values=np.array(([61.0,204.0,75.0],[0.0,64.0,255.0],[167.0,186.0,209.0],\n",
    "                     [204.0,3.0,0.0],[255.0,187.0,51.0],[178.0,152.0,152.0]))/255\n",
    "\n",
    "fig,ax = plt.subplots()\n",
    "labels=[\"Craton\",\"Precambrian Belt\",\"Phanerozoic\",\"Ridges\",\"Oceanic\",\"Oldest Oceanic\"]\n",
    "for i in range(0,len(values)):\n",
    "    comb=dens_counts[i*len(k):len(k)*(i+1),:]\n",
    "    plt.plot(comb[:,0], comb[:,1], '--', color=(rgb_values[i]),label=labels[i])\n",
    "    plt.plot(comb[:,0], comb[:,1], '.',markersize=12, color=\"white\", markeredgecolor=(rgb_values[i]))\n",
    "    plt.plot(comb[np.argmax(comb[:,1]),0],comb[np.argmax(comb[:,1]),1],'.',markersize=15,color=(rgb_values[i]))\n",
    "\n",
    "ax.yaxis.set_minor_locator(MultipleLocator(100))\n",
    "plt.xticks(k,fontsize=10,fontname=\"Arial\")\n",
    "plt.yticks(np.arange(0,1001,200),fontsize=10,fontname=\"Arial\")\n",
    "plt.xlabel('Density contrast [kgm$^{-3}$]',fontsize=10,fontname=\"Arial\")\n",
    "plt.ylabel('Counts',fontsize=10,fontname=\"Arial\")\n",
    "font = font_manager.FontProperties(family='Arial',size=9)\n",
    "plt.legend(prop=font)\n",
    "#plt.savefig(\"test_rmss3.png\", bbox_inches = 'tight', pad_inches = 0,dpi=300)\n",
    "plt.show()"
   ]
  },
  {
   "cell_type": "code",
   "execution_count": null,
   "metadata": {},
   "outputs": [],
   "source": []
  }
 ],
 "metadata": {
  "kernelspec": {
   "display_name": "Python 3",
   "language": "python",
   "name": "python3"
  },
  "language_info": {
   "codemirror_mode": {
    "name": "ipython",
    "version": 3
   },
   "file_extension": ".py",
   "mimetype": "text/x-python",
   "name": "python",
   "nbconvert_exporter": "python",
   "pygments_lexer": "ipython3",
   "version": "3.7.4"
  }
 },
 "nbformat": 4,
 "nbformat_minor": 1
}
